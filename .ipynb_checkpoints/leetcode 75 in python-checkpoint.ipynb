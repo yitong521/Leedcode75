{
 "cells": [
  {
   "cell_type": "markdown",
   "id": "0f8beb07",
   "metadata": {},
   "source": [
    "Problem 1\n",
    "\n",
    "0306\n",
    "\n",
    "You are given two strings word1 and word2. Merge the strings by adding letters in alternating order, starting with word1. If a string is longer than the other, append the additional letters onto the end of the merged string.\n",
    "\n",
    "Return the merged string.\n",
    "\n",
    " \n",
    "\n",
    "Example 1:\n",
    "\n",
    "Input: word1 = \"abc\", word2 = \"pqr\"\n",
    "Output: \"apbqcr\"\n",
    "Explanation: The merged string will be merged as so:\n",
    "word1:  a   b   c\n",
    "word2:    p   q   r\n",
    "merged: a p b q c r"
   ]
  },
  {
   "cell_type": "code",
   "execution_count": 1,
   "id": "7d13daf9",
   "metadata": {},
   "outputs": [],
   "source": [
    "class Solution(object):\n",
    "    def mergeAlternately(self, word1, word2):\n",
    "        \"\"\"\n",
    "        :type word1: str\n",
    "        :type word2: str\n",
    "        :rtype: str\n",
    "        \"\"\"\n",
    "        result = []\n",
    "        i = 0\n",
    "        while i < len(word1) or i < len(word2):\n",
    "            if i < len(word1):\n",
    "                result.append(word1[i])\n",
    "            if i < len(word2):\n",
    "                result.append(word2[i])\n",
    "            i += 1\n",
    "        return ''.join(result)\n",
    "      "
   ]
  },
  {
   "cell_type": "markdown",
   "id": "363beb6d",
   "metadata": {},
   "source": [
    "##### Problem 2- 1071. Greatest Common Divisor of Strings\n",
    "For two strings s and t, we say \"t divides s\" if and only if s = t + t + t + ... + t + t (i.e., t is concatenated with itself one or more times).\n",
    "\n",
    "Given two strings str1 and str2, return the largest string x such that x divides both str1 and str2.\n",
    "\n",
    " \n",
    "\n",
    "Example 1:\n",
    "\n",
    "Input: str1 = \"ABCABC\", str2 = \"ABC\"\n",
    "Output: \"ABC\"\n",
    "Example 2:\n",
    "\n",
    "Input: str1 = \"ABABAB\", str2 = \"ABAB\"\n",
    "Output: \"AB\"\n",
    "Example 3:\n",
    "\n",
    "Input: str1 = \"LEET\", str2 = \"CODE\"\n",
    "Output: \"\""
   ]
  },
  {
   "cell_type": "code",
   "execution_count": 44,
   "id": "ad61a680",
   "metadata": {},
   "outputs": [],
   "source": [
    "class Solution(object):\n",
    "    def gcdOfStrings(self, str1, str2):\n",
    "        \"\"\"\n",
    "        :type str1: str\n",
    "        :type str2: str\n",
    "        :rtype: str\n",
    "        \"\"\"\n",
    "        i = 0 \n",
    "        no_repeat = \"\"\n",
    "        no_repeat = no_repeat + str2[0]\n",
    "        for i in range(1,len(str2)):\n",
    "            if str2[i] == str2[0] and no_repeat == str2[i:i + len(no_repeat)]:\n",
    "                break\n",
    "            else:\n",
    "                no_repeat = no_repeat + str2[i]\n",
    "\n",
    "        result = \"\"\n",
    "        if len(str1) % len(no_repeat) == 0:\n",
    "            turns = len(str1) // len(no_repeat)\n",
    "        \n",
    "            j = 0 \n",
    "            parts_list = [str1[j:j+len(no_repeat)] for j in range(0, len(str1), len(no_repeat))]\n",
    "            for t in parts_list:\n",
    "                if t != no_repeat:\n",
    "                    result = \"\"\n",
    "                    break\n",
    "                else:\n",
    "                    result = no_repeat\n",
    "        else:\n",
    "            result = \"\"\n",
    "\n",
    "        return result"
   ]
  },
  {
   "cell_type": "code",
   "execution_count": 45,
   "id": "73abca67",
   "metadata": {},
   "outputs": [],
   "source": [
    "class Solution:\n",
    "    def gcdOfStrings(self, str1: str, str2: str) -> str:\n",
    "        # Check if they have non-zero GCD string.\n",
    "        if str1 + str2 != str2 + str1:\n",
    "            return \"\"\n",
    "\n",
    "        # Get the GCD of the two lengths.\n",
    "        max_length = gcd(len(str1), len(str2))\n",
    "        return str1[:max_length]\n",
    "\n",
    "# 如果问题可以拆小，那么就用递归"
   ]
  },
  {
   "cell_type": "code",
   "execution_count": null,
   "id": "6351257d",
   "metadata": {},
   "outputs": [],
   "source": []
  }
 ],
 "metadata": {
  "kernelspec": {
   "display_name": "Python 3 (ipykernel)",
   "language": "python",
   "name": "python3"
  },
  "language_info": {
   "codemirror_mode": {
    "name": "ipython",
    "version": 3
   },
   "file_extension": ".py",
   "mimetype": "text/x-python",
   "name": "python",
   "nbconvert_exporter": "python",
   "pygments_lexer": "ipython3",
   "version": "3.11.3"
  }
 },
 "nbformat": 4,
 "nbformat_minor": 5
}
