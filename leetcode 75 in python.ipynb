{
 "cells": [
  {
   "cell_type": "markdown",
   "id": "0f8beb07",
   "metadata": {},
   "source": [
    "Problem 1\n",
    "\n",
    "0306\n",
    "\n",
    "You are given two strings word1 and word2. Merge the strings by adding letters in alternating order, starting with word1. If a string is longer than the other, append the additional letters onto the end of the merged string.\n",
    "\n",
    "Return the merged string.\n",
    "\n",
    " \n",
    "\n",
    "Example 1:\n",
    "\n",
    "Input: word1 = \"abc\", word2 = \"pqr\"\n",
    "Output: \"apbqcr\"\n",
    "Explanation: The merged string will be merged as so:\n",
    "word1:  a   b   c\n",
    "word2:    p   q   r\n",
    "merged: a p b q c r"
   ]
  },
  {
   "cell_type": "code",
   "execution_count": 1,
   "id": "7d13daf9",
   "metadata": {},
   "outputs": [],
   "source": [
    "class Solution(object):\n",
    "    def mergeAlternately(self, word1, word2):\n",
    "        \"\"\"\n",
    "        :type word1: str\n",
    "        :type word2: str\n",
    "        :rtype: str\n",
    "        \"\"\"\n",
    "        result = []\n",
    "        i = 0\n",
    "        while i < len(word1) or i < len(word2):\n",
    "            if i < len(word1):\n",
    "                result.append(word1[i])\n",
    "            if i < len(word2):\n",
    "                result.append(word2[i])\n",
    "            i += 1\n",
    "        return ''.join(result)\n",
    "      "
   ]
  },
  {
   "cell_type": "markdown",
   "id": "363beb6d",
   "metadata": {},
   "source": [
    "##### Problem 2- 1071. Greatest Common Divisor of Strings\n",
    "For two strings s and t, we say \"t divides s\" if and only if s = t + t + t + ... + t + t (i.e., t is concatenated with itself one or more times).\n",
    "\n",
    "Given two strings str1 and str2, return the largest string x such that x divides both str1 and str2.\n",
    "\n",
    " \n",
    "\n",
    "Example 1:\n",
    "\n",
    "Input: str1 = \"ABCABC\", str2 = \"ABC\"\n",
    "Output: \"ABC\"\n",
    "Example 2:\n",
    "\n",
    "Input: str1 = \"ABABAB\", str2 = \"ABAB\"\n",
    "Output: \"AB\"\n",
    "Example 3:\n",
    "\n",
    "Input: str1 = \"LEET\", str2 = \"CODE\"\n",
    "Output: \"\""
   ]
  },
  {
   "cell_type": "code",
   "execution_count": 44,
   "id": "ad61a680",
   "metadata": {},
   "outputs": [],
   "source": [
    "class Solution(object):\n",
    "    def gcdOfStrings(self, str1, str2):\n",
    "        \"\"\"\n",
    "        :type str1: str\n",
    "        :type str2: str\n",
    "        :rtype: str\n",
    "        \"\"\"\n",
    "        i = 0 \n",
    "        no_repeat = \"\"\n",
    "        no_repeat = no_repeat + str2[0]\n",
    "        for i in range(1,len(str2)):\n",
    "            if str2[i] == str2[0] and no_repeat == str2[i:i + len(no_repeat)]:\n",
    "                break\n",
    "            else:\n",
    "                no_repeat = no_repeat + str2[i]\n",
    "\n",
    "        result = \"\"\n",
    "        if len(str1) % len(no_repeat) == 0:\n",
    "            turns = len(str1) // len(no_repeat)\n",
    "        \n",
    "            j = 0 \n",
    "            parts_list = [str1[j:j+len(no_repeat)] for j in range(0, len(str1), len(no_repeat))]\n",
    "            for t in parts_list:\n",
    "                if t != no_repeat:\n",
    "                    result = \"\"\n",
    "                    break\n",
    "                else:\n",
    "                    result = no_repeat\n",
    "        else:\n",
    "            result = \"\"\n",
    "\n",
    "        return result"
   ]
  },
  {
   "cell_type": "code",
   "execution_count": 45,
   "id": "73abca67",
   "metadata": {},
   "outputs": [],
   "source": [
    "class Solution:\n",
    "    def gcdOfStrings(self, str1: str, str2: str) -> str:\n",
    "        # Check if they have non-zero GCD string.\n",
    "        if str1 + str2 != str2 + str1:\n",
    "            return \"\"\n",
    "\n",
    "        # Get the GCD of the two lengths.\n",
    "        max_length = gcd(len(str1), len(str2))\n",
    "        return str1[:max_length]\n",
    "\n",
    "# 如果问题可以拆小，那么就用递归"
   ]
  },
  {
   "cell_type": "markdown",
   "id": "441c7311",
   "metadata": {},
   "source": [
    "##### Problem 3- 1431. Kids With the Greatest Number of Candies\n",
    "\n",
    "There are n kids with candies. You are given an integer array candies, where each candies[i] represents the number of candies the ith kid has, and an integer extraCandies, denoting the number of extra candies that you have.\n",
    "\n",
    "Return a boolean array result of length n, where result[i] is true if, after giving the ith kid all the extraCandies, they will have the greatest number of candies among all the kids, or false otherwise.\n",
    "\n",
    "Note that multiple kids can have the greatest number of candies.\n"
   ]
  },
  {
   "cell_type": "code",
   "execution_count": 7,
   "id": "ef355c41",
   "metadata": {},
   "outputs": [],
   "source": [
    "class Solution(object):\n",
    "    def kidsWithCandies(self, candies, extraCandies):\n",
    "        \"\"\"\n",
    "        :type candies: List[int]\n",
    "        :type extraCandies: int\n",
    "        :rtype: List[bool]\n",
    "        \"\"\"\n",
    "        i = 0\n",
    "        boolean_list = []\n",
    "        for i in range(len(candies)):\n",
    "            candies[i] = candies[i] + extraCandies\n",
    "            boolean_value = True\n",
    "            for j in range(0,len(candies)):\n",
    "                if candies[j] > candies[i]:\n",
    "                    boolean_value = False\n",
    "                    break\n",
    "            boolean_list.append(boolean_value)\n",
    "            candies[i] = candies[i] - extraCandies\n",
    "        return boolean_list"
   ]
  },
  {
   "cell_type": "code",
   "execution_count": 8,
   "id": "a315f0b5",
   "metadata": {},
   "outputs": [],
   "source": [
    "class Solution(object):\n",
    "    def kidsWithCandies(self, candies, extraCandies):\n",
    "        # Find out the greatest number of candies among all the kids.\n",
    "        maxCandies = max(candies)\n",
    "        # For each kid, check if they will have greatest number of candies\n",
    "        # among all the kids.\n",
    "        result = []\n",
    "        for i in range(len(candies)):            \n",
    "            result.append(candies[i] + extraCandies >= maxCandies)\n",
    "        return result"
   ]
  },
  {
   "cell_type": "markdown",
   "id": "5b550bc8",
   "metadata": {},
   "source": [
    "##### Problem 4- 605. Can Place Flowers\n",
    "\n",
    "You have a long flowerbed in which some of the plots are planted, and some are not. However, flowers cannot be planted in adjacent plots.\n",
    "\n",
    "Given an integer array flowerbed containing 0's and 1's, where 0 means empty and 1 means not empty, and an integer n, return true if n new flowers can be planted in the flowerbed without violating the no-adjacent-flowers rule and false otherwise.\n"
   ]
  },
  {
   "cell_type": "code",
   "execution_count": 87,
   "id": "6a67179e",
   "metadata": {},
   "outputs": [],
   "source": [
    "class Solution(object):\n",
    "    def canPlaceFlowers(self, flowerbed, n):\n",
    "        \"\"\"\n",
    "        :type flowerbed: List[int]\n",
    "        :type n: int\n",
    "        :rtype: bool\n",
    "        \"\"\"\n",
    "        availabe = 0\n",
    "        ava_bed = []\n",
    "        can_plant = 0\n",
    "\n",
    "\n",
    "        if len(flowerbed) ==1 and flowerbed[0] == 0:\n",
    "            can_plant = can_plant+1\n",
    "\n",
    "        elif len(flowerbed) == 2:\n",
    "            if flowerbed[0] == 0 and flowerbed[1] == 0:\n",
    "                can_plant = can_plant+1\n",
    "\n",
    "        elif len(flowerbed) > 2:\n",
    "            for i in range(1, len(flowerbed)):\n",
    "                if flowerbed[i] == 0 and flowerbed[i-1] == 0:\n",
    "                    availabe += 1\n",
    "                elif flowerbed[i] == 1 and flowerbed[i-1] == 0:\n",
    "                    ava_bed.append(availabe+1)\n",
    "                    availabe = 0\n",
    "            if flowerbed[-1] == 0 :\n",
    "                availabe += 1\n",
    "                ava_bed.append(availabe)\n",
    "\n",
    "            for j in ava_bed:\n",
    "                can_plant = can_plant+ (j -1) //2\n",
    "            \n",
    "            if flowerbed[0] == 0 and flowerbed[1] == 0:\n",
    "                can_plant = can_plant+1\n",
    "            \n",
    "            if flowerbed[-1] == 0 and flowerbed[-2] == 0:\n",
    "                can_plant = can_plant+1\n",
    "            \n",
    "            if len(ava_bed)== 1 and len(flowerbed) == ava_bed[0]:\n",
    "                can_plant = (len(flowerbed)+1)//2 \n",
    "        if can_plant >= n:\n",
    "            return True\n",
    "        else:\n",
    "            return False"
   ]
  },
  {
   "cell_type": "markdown",
   "id": "dace9b4b",
   "metadata": {},
   "source": [
    "To do so, we can traverse over all the elements of the flowerbedflowerbedflowerbed and find out those elements which are 0(implying an empty position). For every such element, we check if its both adjacent positions are also empty. If so, we can plant a flower at the current position without violating the no-adjacent-flowers-rule. For the first and last elements, we need not check the previous and the next adjacent positions respectively."
   ]
  },
  {
   "cell_type": "code",
   "execution_count": null,
   "id": "e9ce5e87",
   "metadata": {},
   "outputs": [],
   "source": [
    "class Solution:\n",
    "    def canPlaceFlowers(self, flowerbed: List[int], n: int) -> bool:\n",
    "        count = 0\n",
    "        for i in range(len(flowerbed)):\n",
    "            # Check if the current plot is empty.\n",
    "            if flowerbed[i] == 0:\n",
    "                # Check if the left and right plots are empty.\n",
    "                empty_left_plot = (i == 0) or (flowerbed[i - 1] == 0)\n",
    "                empty_right_lot = (i == len(flowerbed) - 1) or (flowerbed[i + 1] == 0)\n",
    "                \n",
    "                # If both plots are empty, we can plant a flower here.\n",
    "                if empty_left_plot and empty_right_lot:\n",
    "                    flowerbed[i] = 1\n",
    "                    count += 1\n",
    "                    \n",
    "        return count >= n"
   ]
  },
  {
   "cell_type": "code",
   "execution_count": null,
   "id": "436e75ca",
   "metadata": {},
   "outputs": [],
   "source": []
  },
  {
   "cell_type": "code",
   "execution_count": null,
   "id": "2c5dd167",
   "metadata": {},
   "outputs": [],
   "source": []
  },
  {
   "cell_type": "code",
   "execution_count": null,
   "id": "ac5d0741",
   "metadata": {},
   "outputs": [],
   "source": []
  },
  {
   "cell_type": "code",
   "execution_count": null,
   "id": "9743d497",
   "metadata": {},
   "outputs": [],
   "source": []
  },
  {
   "cell_type": "code",
   "execution_count": null,
   "id": "be39ba26",
   "metadata": {},
   "outputs": [],
   "source": []
  },
  {
   "cell_type": "code",
   "execution_count": null,
   "id": "35134e13",
   "metadata": {},
   "outputs": [],
   "source": []
  },
  {
   "cell_type": "code",
   "execution_count": null,
   "id": "dc701ca4",
   "metadata": {},
   "outputs": [],
   "source": []
  },
  {
   "cell_type": "code",
   "execution_count": null,
   "id": "de28c8e6",
   "metadata": {},
   "outputs": [],
   "source": []
  }
 ],
 "metadata": {
  "kernelspec": {
   "display_name": "Python 3 (ipykernel)",
   "language": "python",
   "name": "python3"
  },
  "language_info": {
   "codemirror_mode": {
    "name": "ipython",
    "version": 3
   },
   "file_extension": ".py",
   "mimetype": "text/x-python",
   "name": "python",
   "nbconvert_exporter": "python",
   "pygments_lexer": "ipython3",
   "version": "3.11.3"
  }
 },
 "nbformat": 4,
 "nbformat_minor": 5
}
